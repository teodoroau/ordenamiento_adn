{
 "cells": [
  {
   "cell_type": "code",
   "execution_count": null,
   "metadata": {
    "id": "GweoV9WAB7if",
    "pycharm": {
     "name": "#%%\n"
    }
   },
   "outputs": [],
   "source": [
    "# Explicación del codigo ...\n",
    "\n",
    "# Las excepciones en la ejecución provocan que el programa indique el error y finalice\n"
   ]
  },
  {
   "cell_type": "code",
   "execution_count": 2,
   "metadata": {
    "id": "sCn1EZRac6t3",
    "pycharm": {
     "name": "#%%\n"
    }
   },
   "outputs": [],
   "source": [
    "#3\n",
    "def ordenar_cadenas(cadenas_adn):\n",
    "    \"\"\" Recibe una lista de cadenas desordenadas y\n",
    "        devuelve una lista con las cadenas ordenadas\n",
    "        segun las siguintes reglas:\n",
    "        1. Le otorgaremos un valor a cada letra segun su orden alfabetico, posteriormente analizaremos letra por letra \n",
    "        y por cada letra que se ubique posteriormente a la cadena y posea un valor menor a la letra analizada se sumara\n",
    "        '1' a la medida de desorden para asi despues de analizar cada letra de una cadena, obtendremos su medida de desorden.\n",
    "        2. La mas ordenada sera la cadena con una menor medida de desorden lo que significa que necesita \n",
    "        menos inversiones para dejar aquella secuencia en orden.\n",
    "        3. En caso de que dos o mas cadenas poseen la misma medida de desorden estas deben ordenarse \n",
    "        desde la que posee mayor longitud hasta la que tiene menor longitud.\n",
    "    \"\"\"\n",
    "    \n",
    "    def grado_de_desorden(cadena):\n",
    "        nueva_cadena = \"\"\n",
    "        for i in cadena:  # generando cadena de numeros\n",
    "            if i == \"A\":\n",
    "                nueva_cadena = nueva_cadena + \"1\" \n",
    "            if i == \"B\":\n",
    "                nueva_cadena = nueva_cadena + \"2\" \n",
    "            if i == \"C\":\n",
    "                nueva_cadena = nueva_cadena + \"3\" \n",
    "            if i == \"D\":\n",
    "                nueva_cadena = nueva_cadena + \"4\" \n",
    "            if i == \"E\":\n",
    "                nueva_cadena = nueva_cadena + \"5\" \n",
    "            if i == \"G\":\n",
    "                nueva_cadena = nueva_cadena + \"6\" \n",
    "            if i == \"T\":\n",
    "                nueva_cadena = nueva_cadena + \"7\" \n",
    "\n",
    "        # viendo desorden\n",
    "        contador = 0\n",
    "        for indice in range(len(nueva_cadena)):\n",
    "    \n",
    "            evaluar = int(nueva_cadena[indice])\n",
    "            for i in nueva_cadena[indice + 1:]:\n",
    "                if evaluar > int(i):\n",
    "                    contador += 1\n",
    "        return contador\n",
    "\n",
    "    for cadena in cadenas_adn:\n",
    "        grado_de_desorden(cadena) =\n"
   ]
  },
  {
   "cell_type": "code",
   "execution_count": 37,
   "metadata": {
    "colab": {
     "base_uri": "https://localhost:8080/",
     "height": 134
    },
    "executionInfo": {
     "elapsed": 282,
     "status": "error",
     "timestamp": 1656373280052,
     "user": {
      "displayName": "Vicente Teodoro Alvarado Ulloa",
      "userId": "04504772795972544679"
     },
     "user_tz": 240
    },
    "id": "_5TS7D9UfCua",
    "outputId": "101f5728-0bcf-4258-ae31-3a0578aee2ba",
    "pycharm": {
     "name": "#%%\n"
    }
   },
   "outputs": [
    {
     "name": "stdout",
     "output_type": "stream",
     "text": [
      "1\n"
     ]
    }
   ],
   "source": [
    "#5 medir medidas de desorden\n",
    "def desorden_cadena(cadena):\n",
    "  nueva_cadena = \"\"\n",
    "  for i in cadena:  # generando cadena de numeros\n",
    "    if i == \"A\":\n",
    "      nueva_cadena = nueva_cadena + \"1\"\n",
    "    if i == \"B\":\n",
    "        nueva_cadena = nueva_cadena + \"2\"\n",
    "    if i == \"C\":\n",
    "      nueva_cadena = nueva_cadena + \"3\"\n",
    "    if i == \"D\":\n",
    "        nueva_cadena = nueva_cadena + \"4\"\n",
    "    if i == \"E\":\n",
    "      nueva_cadena = nueva_cadena + \"5\"\n",
    "    if i == \"G\":\n",
    "      nueva_cadena = nueva_cadena + \"6\"\n",
    "    if i == \"T\":\n",
    "      nueva_cadena = nueva_cadena + \"7\"\n",
    "\n",
    "  # viendo desorden\n",
    "  contador = 0\n",
    "  for indice in range(len(nueva_cadena)):\n",
    "    evaluar = int(nueva_cadena[indice])\n",
    "    for i in nueva_cadena[indice + 1:]:\n",
    "      if evaluar > int(i):\n",
    "        contador += 1\n",
    "  return contador\n"
   ]
  },
  {
   "cell_type": "markdown",
   "metadata": {
    "id": "WpC_1dr9F9Dz",
    "pycharm": {
     "name": "#%% md\n"
    }
   },
   "source": [
    "\n",
    "\n",
    "# Apuntes \n"
   ]
  },
  {
   "cell_type": "code",
   "execution_count": null,
   "metadata": {
    "id": "8sQwnuILJTaQ",
    "pycharm": {
     "name": "#%%\n"
    }
   },
   "outputs": [],
   "source": [
    "#Para usar listas [] \n",
    "#Las listas incluso pueden contener otras listas\n",
    "lista = [1, \"a\", [2,\"b\"], [[3,\"c\"], [4,\"d\"]]]\n",
    "print(lista)"
   ]
  },
  {
   "cell_type": "code",
   "execution_count": null,
   "metadata": {
    "id": "AoltEKv8HnZ_",
    "pycharm": {
     "name": "#%%\n"
    }
   },
   "outputs": [],
   "source": [
    "#Para obtener la cantidad de elementos:\n",
    "lista = [1, \"a\", [2,\"b\"], [[3,\"c\"], [4,\"d\"]]]\n",
    "largo = len(lista)\n",
    "print(largo)"
   ]
  },
  {
   "cell_type": "code",
   "execution_count": null,
   "metadata": {
    "colab": {
     "base_uri": "https://localhost:8080/"
    },
    "executionInfo": {
     "elapsed": 340,
     "status": "ok",
     "timestamp": 1656371235531,
     "user": {
      "displayName": "francisco",
      "userId": "12990375419023287764"
     },
     "user_tz": 240
    },
    "id": "68qgZGYpH5eX",
    "outputId": "c209a83c-61e7-4f60-faf8-ddf839f258e6",
    "pycharm": {
     "name": "#%%\n"
    }
   },
   "outputs": [
    {
     "name": "stdout",
     "output_type": "stream",
     "text": [
      "Lista original: [1, 'a', [2, 'b'], [[3, 'c'], [4, 'd']]]\n",
      "Primer elemento: 1\n",
      "Segundo elemento: a\n",
      "Último elemento: [[3, 'c'], [4, 'd']]\n",
      "Del tercer elemento, el segundo: b\n",
      "Del cuarto elemento, del segundo, el primero: 4\n"
     ]
    }
   ],
   "source": [
    "#Es posible acceder a los elementos de una lista mediante posiciones (índices)\n",
    "#Primera posi\n",
    "\n",
    "\n",
    "# ción comienza en 0\n",
    "#Última posición termina en len(lista)-1, donde lista es el nombre de la variable\n",
    "lista = [1, \"a\", [2,\"b\"], [[3,\"c\"], [4,\"d\"]]]\n",
    "print('Lista original:', lista)\n",
    "print('Primer elemento:', lista[0])\n",
    "print('Segundo elemento:', lista[1])\n",
    "print('Último elemento:', lista[len(lista)-1])\n",
    "print('Del tercer elemento, el segundo:', lista[2][1])\n",
    "print('Del cuarto elemento, del segundo, el primero:', lista[3][1][0])"
   ]
  },
  {
   "cell_type": "code",
   "execution_count": null,
   "metadata": {
    "colab": {
     "base_uri": "https://localhost:8080/"
    },
    "executionInfo": {
     "elapsed": 5,
     "status": "ok",
     "timestamp": 1656279863149,
     "user": {
      "displayName": "francisco",
      "userId": "12990375419023287764"
     },
     "user_tz": 240
    },
    "id": "md54fMX6IeKv",
    "outputId": "56d2031c-7626-4edb-aafc-ee0707144054",
    "pycharm": {
     "name": "#%%\n"
    }
   },
   "outputs": [
    {
     "name": "stdout",
     "output_type": "stream",
     "text": [
      "Lista original: [1, 'a', [2, 'b'], [[3, 'c'], [4, 'd']]]\n",
      "Primeros dos elementos: [1, 'a']\n",
      "Primeros dos elementos: [1, 'a']\n",
      "Últimos dos elementos: [[2, 'b'], [[3, 'c'], [4, 'd']]]\n",
      "Últimos dos elementos: [[2, 'b'], [[3, 'c'], [4, 'd']]]\n",
      "Todos los elementos de dos en dos: [1, [2, 'b']]\n",
      "Todos los elementos de dos en dos: [1, [2, 'b']]\n"
     ]
    }
   ],
   "source": [
    "#También es posible obtener un segmento de una lista mediante ':'\n",
    "lista = [1, \"a\", [2,\"b\"], [[3,\"c\"], [4,\"d\"]]]\n",
    "print('Lista original:', lista)\n",
    "#En este ejemplo las posiciones son: [0,1) (el valor superior no se considera)\n",
    "print('Primeros dos elementos:', lista[0:2]) #el 1 y el a\n",
    "#Mismo ejemplo, pero omitiendo el primer número (0)\n",
    "print('Primeros dos elementos:', lista[:2])\n",
    "#En este ejemplo se muestran los últimos dos elementos\n",
    "#No se agregó len(lista)-1 porque el valor superior no se considera\n",
    "print('Últimos dos elementos:', lista[len(lista)-2:len(lista)])\n",
    "#Mismo ejemplo, pero omitiendo el último número (len(lista))\n",
    "print('Últimos dos elementos:', lista[len(lista)-2:])\n",
    "#Para obtener los elementos de forma intercalada, agregar otro ':'\n",
    "#En este ejemplo se muestran todos los elementos de dos en dos (paso)\n",
    "print('Todos los elementos de dos en dos:', lista[0:len(lista):2])\n",
    "#Mismo ejemplo, pero omitiendo el primer y último valor, manteniendo solo el paso (2)\n",
    "print('Todos los elementos de dos en dos:', lista[::2])\n",
    "#Para copiar todos los elementos de una lista a otra:\n",
    "nueva_lista = lista[:] #NO hacer nueva_lista=lista ¿qué sucede? recordar que las listas son mutables\n"
   ]
  },
  {
   "cell_type": "code",
   "execution_count": null,
   "metadata": {
    "colab": {
     "base_uri": "https://localhost:8080/"
    },
    "executionInfo": {
     "elapsed": 225,
     "status": "ok",
     "timestamp": 1655779936619,
     "user": {
      "displayName": "francisco",
      "userId": "12990375419023287764"
     },
     "user_tz": 240
    },
    "id": "dctfj25KKt1x",
    "outputId": "94613345-588d-4a04-cd85-0840985b2bac",
    "pycharm": {
     "name": "#%%\n"
    }
   },
   "outputs": [
    {
     "name": "stdout",
     "output_type": "stream",
     "text": [
      "Lista original: [1, 'a', [2, 'b'], [[3, 'c'], [4, 'd']]]\n",
      "Lista modificada: [111, 'a', [2, 'b'], [[3, 'c'], [4, 'd']]]\n"
     ]
    },
    {
     "data": {
      "text/plain": [
       "1"
      ]
     },
     "execution_count": 4,
     "metadata": {},
     "output_type": "execute_result"
    }
   ],
   "source": [
    "#Las listas son mutables, es decir, es posible modificar sus elementos:\n",
    "lista = [1, \"a\", [2,\"b\"], [[3,\"c\"], [4,\"d\"]]]\n",
    "print('Lista original:', lista)\n",
    "lista[0] = 111 # 0 es el indice\n",
    "print('Lista modificada:', lista)\n",
    "\n",
    "lista.index(\"a\")"
   ]
  },
  {
   "cell_type": "code",
   "execution_count": null,
   "metadata": {
    "colab": {
     "base_uri": "https://localhost:8080/"
    },
    "executionInfo": {
     "elapsed": 284,
     "status": "ok",
     "timestamp": 1655780383616,
     "user": {
      "displayName": "francisco",
      "userId": "12990375419023287764"
     },
     "user_tz": 240
    },
    "id": "tDdFhxrGMyOJ",
    "outputId": "97f371aa-f8fa-446e-92c7-f7b3e1918c71",
    "pycharm": {
     "name": "#%%\n"
    }
   },
   "outputs": [
    {
     "name": "stdout",
     "output_type": "stream",
     "text": [
      "1\n",
      "a\n",
      "[2, 'b']\n",
      "[[3, 'c'], [4, 'd']]\n"
     ]
    }
   ],
   "source": [
    "#Alternativa para recorrer los elementos de una lista con posiciones (for):\n",
    "lista = [1, \"a\", [2,\"b\"], [[3,\"c\"], [4,\"d\"]]]\n",
    "for i in range(len(lista)): #range en este caso entrega las posiciones\n",
    "    print(lista[i]) #acceder al elemento i-ésimo de la lista"
   ]
  },
  {
   "cell_type": "code",
   "execution_count": null,
   "metadata": {
    "id": "iDqJylfDM-nh",
    "pycharm": {
     "name": "#%%\n"
    }
   },
   "outputs": [],
   "source": [
    "#fUNCIONES\n",
    "#P1\n",
    "def validar(msje, inf, sup):\n",
    "    numero = int(input('Ingrese valor '+msje))\n",
    "    if inf!=sup:\n",
    "        while numero<inf or numero>sup:\n",
    "            numero = int(input('Error\\nIngrese valor '+msje))\n",
    "    else:\n",
    "        while numero<inf:\n",
    "            numero = int(input('Error\\nIngrese valor '+msje))\n",
    "    return numero\n",
    "\n",
    "def n_digitos(n):\n",
    "    n_aux = n\n",
    "    n_dig = 0\n",
    "    s_dig = 0\n",
    "    while n_aux != 0:\n",
    "        d = n_aux%10\n",
    "        n_aux = n_aux//10\n",
    "        n_dig = n_dig+1\n",
    "        if d == 1:\n",
    "            s_dig = s_dig+d\n",
    "    return n_dig, s_dig\n",
    "\n",
    "def casos_numeros(n):\n",
    "    if (n%2)==0:\n",
    "        print(n,'es par')\n",
    "    elif (n%5)==0:\n",
    "        print(n,'es múltiplo de 5')\n",
    "    else:\n",
    "        mul = 1\n",
    "        n_dig_p, s_div_p = n_digitos( mul*n )\n",
    "        while n_dig_p != s_div_p:\n",
    "            mul = mul+1\n",
    "            n_dig_p, s_div_p = n_digitos( mul*n )\n",
    "        print(mul, n*mul)\n",
    "\n",
    "m = validar('1<=m<=1000: ', 1, 1000)\n",
    "i = 0 \n",
    "while i<m:\n",
    "    n = validar('n>0: ', 0, 0)\n",
    "    casos_numeros(n)             \n",
    "    i = i+1 "
   ]
  },
  {
   "cell_type": "code",
   "execution_count": null,
   "metadata": {
    "id": "RMvtDbJ-jZzE",
    "pycharm": {
     "name": "#%%\n"
    }
   },
   "outputs": [],
   "source": [
    "#P2\n",
    "def validar(msje, numero, inf, sup):\n",
    "    while numero<inf or numero>sup:\n",
    "        numero = int(input('Error\\nIngrese valor '+msje))\n",
    "    return numero\n",
    "\n",
    "def potencia(x,e):\n",
    "    if e==0:\n",
    "        pot=1\n",
    "    else:\n",
    "        pot = x\n",
    "        i = 0\n",
    "        while i<(e-1):\n",
    "            aux = 0\n",
    "            j = 0\n",
    "            while j<x:\n",
    "                aux += pot\n",
    "                j = j+1\n",
    "            pot = aux\n",
    "            i = i+1\n",
    "    return pot\n",
    "    \n",
    "def suma(x,e):\n",
    "    s = 0\n",
    "    for i in range(0, e+1):\n",
    "        s = s+potencia(x,i)\n",
    "    return s\n",
    "\n",
    "while True:\n",
    "    x = int(input('Ingrese valor 1<=x<=100: '))\n",
    "    e = int(input('Ingrese valor 1<=e<=10000: '))\n",
    "    if x==0 and e==0:\n",
    "        break\n",
    "    x = validar('1<=x<=100: ', x, 1, 100)\n",
    "    e = validar('1<=e<=10000: ', e, 1, 10000)\n",
    "    s = suma(x,e)\n",
    "    print(s)"
   ]
  }
 ],
 "metadata": {
  "colab": {
   "collapsed_sections": [],
   "name": "tarea_semestral.ipynb",
   "provenance": []
  },
  "kernelspec": {
   "display_name": "Python 3.10.0 64-bit",
   "language": "python",
   "name": "python3"
  },
  "language_info": {
   "codemirror_mode": {
    "name": "ipython",
    "version": 3
   },
   "file_extension": ".py",
   "mimetype": "text/x-python",
   "name": "python",
   "nbconvert_exporter": "python",
   "pygments_lexer": "ipython3",
   "version": "3.10.0"
  },
  "vscode": {
   "interpreter": {
    "hash": "28e4ac859c9a7573a0f6f8efad0c0329134bc90e4f4badebebe1f83f8d59692c"
   }
  }
 },
 "nbformat": 4,
 "nbformat_minor": 0
}
